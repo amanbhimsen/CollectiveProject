{
 "cells": [
  {
   "cell_type": "code",
   "execution_count": 2,
   "metadata": {
    "jupyter": {
     "source_hidden": true
    }
   },
   "outputs": [],
   "source": [
    "\n",
    "def is_square_free( f ) :\n",
    "    \"\"\"\n",
    "    This function checks if the polynomial `f` is square-free.\n",
    "    \"\"\"\n",
    "    return gcd( f, f.derivative() ) == 1\n",
    "    \n",
    "def rad( f ) :\n",
    "    \"\"\"\n",
    "    This function computes the radical of `f`.\n",
    "    \"\"\"\n",
    "    # find the ring of polynomials\n",
    "    P = f.parent()\n",
    "    # return the radical\n",
    "    return P(f/gcd(f,f.derivative()))\n",
    "    \n",
    "def square_free_decomposition( f, omit_trivial_factors = true ) :\n",
    "    \"\"\"\n",
    "    This function takes a polynomial f and returns its square-free \n",
    "    decomposition computed using Tobey-Horowitz algorithm.\n",
    "    The additional parameter omit_trivial_factors constrols whether factors = 1\n",
    "    should be omitted (default) or not.\n",
    "    \"\"\"\n",
    "    # The base ring must be a field of characteristic zero\n",
    "    assert f.base_ring().characteristic() == 0, \"The characteristic must be zero!\"\n",
    "    assert f.base_ring().is_field(), \"The base ring must be a field!\"\n",
    "\n",
    "    # Store the ring of polys in P\n",
    "    P = f.parent()\n",
    "    # normalize f\n",
    "    lcf = f.leading_coefficient()\n",
    "    f = f.monic()\n",
    "    # compute a0, a1 and b1\n",
    "    a0 = f\n",
    "    a1 = gcd(a0, a0.derivative())\n",
    "    b1 = P( a0/a1 )\n",
    "    # the list of square-free factors\n",
    "    G = []\n",
    "    # the counter\n",
    "    j = 1\n",
    "    # main loop\n",
    "    while b1 != 1 :\n",
    "        # compute next aj\n",
    "        a0 = a1\n",
    "        a1 = gcd(a0, a0.derivative()) \n",
    "        # compute next bj\n",
    "        b2 =  P(a0/a1)\n",
    "        # compute a square-free factor...\n",
    "        gj = P(b1/b2)\n",
    "        # ...and append it to G\n",
    "        if gj != 1 or not omit_trivial_factors :\n",
    "            G.append( (gj, j) )\n",
    "        # substitute bj by b_{j+1}\n",
    "        b1 = b2\n",
    "        # increment the counter\n",
    "        j += 1\n",
    "    return Factorization(G, unit = lcf, sort = false)"
   ]
  },
  {
   "cell_type": "markdown",
   "metadata": {},
   "source": [
    "<p><span style=\"color: #ff0000;\">The above hidden cell will execute automatically upon opening the worksheet. It contains the following functions from exercise set 7:</span></p>\n",
    "<ul>\n",
    "<li><span style=\"color: #ff0000; font-family: courier new,courier;\">is_square_free( f )</span></li>\n",
    "<li><span style=\"color: #ff0000; font-family: courier new,courier;\">rad( f )</span></li>\n",
    "<li><span style=\"color: #ff0000; font-family: courier new,courier;\">square_free_decomposition( f, omit_trivial_factors = true )</span></li>\n",
    "</ul>\n",
    "<p> </p>\n",
    "<h1>Root bounds</h1>\n",
    "<p><strong>Theorem (Cauchy):</strong> <em>Let $f = f_0 + f_1x + \\dotsb + f_nx^n$ be a polynomial of degree~$n$ (i.e. $f_n \\neq 0$) and let $\\xi\\in \\mathbb C$ be a root of $f$. Then the absolute value of $\\xi$ can be bounded as follows</em><br />\\[<br />|\\xi| < 1 + \\max_{0\\leq j\\leq n-1} \\left|\\frac{f_j}{f_n}\\right|.<br />\\]</p>\n",
    "<p><strong>Exercise:</strong> Compute the Cauchy bound (the \"first one\") for roots of $f=x^5 - 20x^4 + 152x^3 - 544x^2 + 900x - 529$ (example from LCM). Plot the graph of $f$ on the obtained interval.</p>\n",
    "<p>1) Define the polynomial ring $P = \\mathbb{Q}[x]$ together with the polynomial $f$</p>"
   ]
  },
  {
   "cell_type": "code",
   "execution_count": null,
   "metadata": {},
   "outputs": [],
   "source": []
  },
  {
   "cell_type": "markdown",
   "metadata": {},
   "source": [
    "<p>2) Compute $M > 0$ such that $|\\xi| < M$ for every root $\\xi\\in \\mathbb{C}$ of $f$. Use Cauchy theorem.</p>"
   ]
  },
  {
   "cell_type": "code",
   "execution_count": null,
   "metadata": {},
   "outputs": [],
   "source": []
  },
  {
   "cell_type": "markdown",
   "metadata": {},
   "source": [
    "<p>3) Plot the graph of $f$ on $[-M, M]$. </p>"
   ]
  },
  {
   "cell_type": "code",
   "execution_count": null,
   "metadata": {},
   "outputs": [],
   "source": []
  },
  {
   "cell_type": "markdown",
   "metadata": {},
   "source": [
    "<p><strong>Exercise:</strong></p>\n",
    "<ul>\n",
    "<li>Compute the arithemtic mean $\\mu_f$ of roots of $f$.</li>\n",
    "<li>Construct the <em>depressed</em> form $g$ of the polynomial $f$.</li>\n",
    "<li>Compute the Cauchy bound $M_g$ for roots of the depressed polynomial.</li>\n",
    "<li>Is $\\mu_f \\pm M_g$ a better bound than the one computed directly for $f$?</li>\n",
    "</ul>"
   ]
  },
  {
   "cell_type": "code",
   "execution_count": 1,
   "metadata": {},
   "outputs": [],
   "source": [
    "# arithmetic mean\n"
   ]
  },
  {
   "cell_type": "code",
   "execution_count": 2,
   "metadata": {},
   "outputs": [],
   "source": [
    "# depreesed polynomial\n"
   ]
  },
  {
   "cell_type": "code",
   "execution_count": 3,
   "metadata": {},
   "outputs": [],
   "source": [
    "# bound for the depressed polynomial\n"
   ]
  },
  {
   "cell_type": "code",
   "execution_count": 4,
   "metadata": {},
   "outputs": [],
   "source": [
    "# new bound for f\n"
   ]
  },
  {
   "cell_type": "code",
   "execution_count": 5,
   "metadata": {},
   "outputs": [],
   "source": [
    "# plot of f on the new interval\n"
   ]
  },
  {
   "cell_type": "markdown",
   "metadata": {},
   "source": [
    "<p><span id=\"cell_outer_16\"><span id=\"cell_outer_3\"><strong>Exercise:</strong> Write a function that computes the \"first Cauchy bound\" for the absolute value of roots of a given polynomial.</span></span></p>"
   ]
  },
  {
   "cell_type": "code",
   "execution_count": 6,
   "metadata": {},
   "outputs": [],
   "source": [
    "def Cauchy_1( f ) :\n",
    "    \"\"\"\n",
    "    Given a polynomial `f`, this function computes `M` s.t. all the roots of `f` are contained in `(-M,M)`.\n",
    "    It uses the \"first\" Cauchy bound.\n",
    "    \"\"\"\n",
    "    None\n",
    "    return None"
   ]
  },
  {
   "cell_type": "code",
   "execution_count": 23,
   "metadata": {},
   "outputs": [],
   "source": [
    "# Cauchy_1(f)"
   ]
  },
  {
   "cell_type": "markdown",
   "metadata": {},
   "source": [
    "<p><strong>Exercise:</strong> Write a function that construct the depressed form of a given polynomial $f$.</p>"
   ]
  },
  {
   "cell_type": "code",
   "execution_count": 21,
   "metadata": {},
   "outputs": [],
   "source": [
    "# This function computes the depressed form of a given polynomial `f`.\n"
   ]
  },
  {
   "cell_type": "code",
   "execution_count": 22,
   "metadata": {},
   "outputs": [],
   "source": [
    "# depress(f)"
   ]
  },
  {
   "cell_type": "markdown",
   "metadata": {},
   "source": [
    "<p><strong>Theorem (Cauchy):</strong> Let $f = f_0 + f_1x + \\dotsb + f_nx^n$ be a polynomial and $\\xi\\in \\mathbb C$ its root, then\\[|\\xi| \\leq \\max_{0\\leq n} \\left(n \\cdot \\left|\\frac{f_j}{f_n} \\right|\\right)^{\\frac{1}{n-j}}.\\]</p>\n",
    "<p><strong>Exercise:</strong> Write a function that computes the \"second\" Cauchy bound for roots of a given polynomial. For our example polynomial, compare the results of these two bounds. Which one is better?</p>"
   ]
  },
  {
   "cell_type": "code",
   "execution_count": 10,
   "metadata": {},
   "outputs": [],
   "source": [
    "#Function Cauchy 2\n"
   ]
  },
  {
   "cell_type": "code",
   "execution_count": 11,
   "metadata": {},
   "outputs": [],
   "source": [
    "#Cauchy_2(f)"
   ]
  },
  {
   "cell_type": "code",
   "execution_count": 12,
   "metadata": {},
   "outputs": [],
   "source": [
    "# Mf = mu_f + Cauchy_2(g)\n",
    "# show(\"M_f = \" + latex(Mf) + \"\\\\approx\" + latex(round(Mf,2)))"
   ]
  },
  {
   "cell_type": "markdown",
   "metadata": {},
   "source": [
    "<p><strong>Theorem (Hong):</strong> Let $f = f_0 + f_1x + \\dotsb + f_nx^n$ be a polynomial with a strictly positive leading coefficient. If $\\xi\\in \\mathbb R$ is a root of $f$, then<br />\\[<br />\\xi < 2 \\max_{\\substack{j\\in \\{0,\\dotsc, n-1\\}\\\\ f_j < 0}}\\min_{\\substack{i\\in \\{j+1, \\dotsc, n\\}\\\\ f_i > 0}} \\biggl( \\frac{-f_j}{f_i} \\biggr)^{\\frac{1}{i-j}}.<br />\\]</p>\n",
    "<p><strong>Exercise:</strong> Write a function that computes Hong's bound for real roots of a polynomial.</p>"
   ]
  },
  {
   "cell_type": "code",
   "execution_count": null,
   "metadata": {},
   "outputs": [],
   "source": []
  },
  {
   "cell_type": "code",
   "execution_count": 13,
   "metadata": {},
   "outputs": [],
   "source": [
    "# Hong(f)"
   ]
  },
  {
   "cell_type": "code",
   "execution_count": 15,
   "metadata": {},
   "outputs": [],
   "source": [
    "# Mf = mu_f + Hong(g)\n",
    "# show(\"M_f = \" + latex(Mf) + \"\\\\approx\" + latex(round(Mf,2)))"
   ]
  },
  {
   "cell_type": "markdown",
   "metadata": {},
   "source": [
    "<p><strong>Exercise:</strong> Write a function that computes Vikglas' local-max bound for real roots of a given polynomial (see LCM).</p>"
   ]
  },
  {
   "cell_type": "code",
   "execution_count": null,
   "metadata": {},
   "outputs": [],
   "source": []
  },
  {
   "cell_type": "code",
   "execution_count": 18,
   "metadata": {},
   "outputs": [],
   "source": [
    "# local_max(f)"
   ]
  },
  {
   "cell_type": "code",
   "execution_count": 20,
   "metadata": {},
   "outputs": [],
   "source": [
    "# Mf = mu_f + local_max(g)\n",
    "# show(\"M_f = \" + latex(Mf))"
   ]
  },
  {
   "cell_type": "markdown",
   "metadata": {},
   "source": [
    "<p><strong>Theorem (Laguerre-Samuelson):</strong> Let $f = f_0 + f_1x +\\dotsb + f_nx^n$ be a polynomial of degree $\\deg f\\geq 2$. Assume that all the roots of $f$ are real. Then the roots of $f$ are contained in the interval  $[M_-, M_+]$, where <br />\\[ <br />M_\\pm := -\\frac{f_{n-1}}{n\\cdot f_n} \\pm \\frac{n-1}{n}\\cdot \\sqrt{\\frac{f_{n-1}^2}{f_n^2} - \\frac{2n\\cdot f_{n-2}}{(n-1)\\cdot f_n}} <br />\\]</p>\n",
    "<p><strong>Exercise:</strong> Write a function that localizes the roots of a polynomial using Laguerre-Samuelson theorem. Compare the estimates computed by this function with the previous (simpler) bounds.</p>"
   ]
  },
  {
   "cell_type": "code",
   "execution_count": 34,
   "metadata": {},
   "outputs": [],
   "source": []
  },
  {
   "cell_type": "code",
   "execution_count": 16,
   "metadata": {},
   "outputs": [],
   "source": [
    "# Mm, Mp = Laguerre_Samuelson(f)\n",
    "# show(\"(M_-,M_+)=(\"+latex(Mm)+\",\"+latex(Mp)+\")\\\\approx (\"+latex(round(Mm,2))+\",\"+latex(round(Mp,2)) +\")\")"
   ]
  },
  {
   "cell_type": "code",
   "execution_count": 17,
   "metadata": {},
   "outputs": [],
   "source": [
    "# plot the graph of f\n",
    "# f.plot(Mm, Mp, ymin = -25, ymax = 25)"
   ]
  },
  {
   "cell_type": "markdown",
   "metadata": {},
   "source": [
    "<p><strong>Exercise:</strong> Analyze the code of the following interactive cell. Play with it.</p>"
   ]
  },
  {
   "cell_type": "code",
   "execution_count": 41,
   "metadata": {},
   "outputs": [
    {
     "ename": "NotImplementedError",
     "evalue": "range_slider does not support a list of values",
     "output_type": "error",
     "traceback": [
      "\u001b[0;31m---------------------------------------------------------------------------\u001b[0m",
      "\u001b[0;31mNotImplementedError\u001b[0m                       Traceback (most recent call last)",
      "\u001b[0;32m<ipython-input-41-cd782a224ad9>\u001b[0m in \u001b[0;36m<module>\u001b[0;34m()\u001b[0m\n\u001b[1;32m      1\u001b[0m \u001b[0;34m@\u001b[0m\u001b[0minteract\u001b[0m\u001b[0;34m\u001b[0m\u001b[0;34m\u001b[0m\u001b[0m\n\u001b[1;32m      2\u001b[0m def illustration( f = input_box(default = x**Integer(2)-Integer(1), label=\"$f=$\"), \n\u001b[0;32m----> 3\u001b[0;31m                \u001b[0mab\u001b[0m \u001b[0;34m=\u001b[0m \u001b[0mrange_slider\u001b[0m\u001b[0;34m(\u001b[0m\u001b[0;34m(\u001b[0m\u001b[0mellipsis_iter\u001b[0m\u001b[0;34m(\u001b[0m\u001b[0;34m-\u001b[0m\u001b[0mInteger\u001b[0m\u001b[0;34m(\u001b[0m\u001b[0;36m10\u001b[0m\u001b[0;34m)\u001b[0m\u001b[0;34m,\u001b[0m\u001b[0mEllipsis\u001b[0m\u001b[0;34m,\u001b[0m\u001b[0mInteger\u001b[0m\u001b[0;34m(\u001b[0m\u001b[0;36m10\u001b[0m\u001b[0;34m)\u001b[0m\u001b[0;34m)\u001b[0m\u001b[0;34m)\u001b[0m\u001b[0;34m,\u001b[0m \u001b[0mdefault\u001b[0m \u001b[0;34m=\u001b[0m \u001b[0;34m(\u001b[0m\u001b[0;34m-\u001b[0m\u001b[0mInteger\u001b[0m\u001b[0;34m(\u001b[0m\u001b[0;36m2\u001b[0m\u001b[0;34m)\u001b[0m\u001b[0;34m,\u001b[0m\u001b[0mInteger\u001b[0m\u001b[0;34m(\u001b[0m\u001b[0;36m2\u001b[0m\u001b[0;34m)\u001b[0m\u001b[0;34m)\u001b[0m\u001b[0;34m,\u001b[0m \u001b[0mlabel\u001b[0m \u001b[0;34m=\u001b[0m \u001b[0;34m\"$(a,b)=$\"\u001b[0m\u001b[0;34m)\u001b[0m\u001b[0;34m,\u001b[0m\u001b[0;34m\u001b[0m\u001b[0;34m\u001b[0m\u001b[0m\n\u001b[0m\u001b[1;32m      4\u001b[0m                typ = selector([\"Cauchy 1\", \"Cauchy 2\", \"Hong\", \"local-max\", \"Laguerre-Samuelson\"]) ) :\n\u001b[1;32m      5\u001b[0m     \u001b[0;32mfrom\u001b[0m \u001b[0msage\u001b[0m\u001b[0;34m.\u001b[0m\u001b[0mrings\u001b[0m\u001b[0;34m.\u001b[0m\u001b[0mpolynomial\u001b[0m\u001b[0;34m.\u001b[0m\u001b[0mpolynomial_element\u001b[0m \u001b[0;32mimport\u001b[0m \u001b[0mis_Polynomial\u001b[0m\u001b[0;34m\u001b[0m\u001b[0;34m\u001b[0m\u001b[0m\n",
      "\u001b[0;32m/Applications/miniconda3/lib/python3.7/site-packages/sage/repl/ipython_kernel/widgets_sagenb.py\u001b[0m in \u001b[0;36mrange_slider\u001b[0;34m(*args, **kwds)\u001b[0m\n\u001b[1;32m    393\u001b[0m     \"\"\"\n\u001b[1;32m    394\u001b[0m     \u001b[0mkwds\u001b[0m\u001b[0;34m[\u001b[0m\u001b[0;34m\"_range\"\u001b[0m\u001b[0;34m]\u001b[0m \u001b[0;34m=\u001b[0m \u001b[0;32mTrue\u001b[0m\u001b[0;34m\u001b[0m\u001b[0;34m\u001b[0m\u001b[0m\n\u001b[0;32m--> 395\u001b[0;31m     \u001b[0;32mreturn\u001b[0m \u001b[0mslider\u001b[0m\u001b[0;34m(\u001b[0m\u001b[0;34m*\u001b[0m\u001b[0margs\u001b[0m\u001b[0;34m,\u001b[0m \u001b[0;34m**\u001b[0m\u001b[0mkwds\u001b[0m\u001b[0;34m)\u001b[0m\u001b[0;34m\u001b[0m\u001b[0;34m\u001b[0m\u001b[0m\n\u001b[0m\u001b[1;32m    396\u001b[0m \u001b[0;34m\u001b[0m\u001b[0m\n\u001b[1;32m    397\u001b[0m \u001b[0;34m\u001b[0m\u001b[0m\n",
      "\u001b[0;32m/Applications/miniconda3/lib/python3.7/site-packages/sage/repl/ipython_kernel/widgets_sagenb.py\u001b[0m in \u001b[0;36mslider\u001b[0;34m(vmin, vmax, step_size, default, label, display_value, _range)\u001b[0m\n\u001b[1;32m    248\u001b[0m         \u001b[0;32mif\u001b[0m \u001b[0m_range\u001b[0m\u001b[0;34m:\u001b[0m\u001b[0;34m\u001b[0m\u001b[0;34m\u001b[0m\u001b[0m\n\u001b[1;32m    249\u001b[0m             \u001b[0;31m# https://github.com/ipython/ipywidgets/issues/760\u001b[0m\u001b[0;34m\u001b[0m\u001b[0;34m\u001b[0m\u001b[0;34m\u001b[0m\u001b[0m\n\u001b[0;32m--> 250\u001b[0;31m             \u001b[0;32mraise\u001b[0m \u001b[0mNotImplementedError\u001b[0m\u001b[0;34m(\u001b[0m\u001b[0;34m\"range_slider does not support a list of values\"\u001b[0m\u001b[0;34m)\u001b[0m\u001b[0;34m\u001b[0m\u001b[0;34m\u001b[0m\u001b[0m\n\u001b[0m\u001b[1;32m    251\u001b[0m         \u001b[0moptions\u001b[0m \u001b[0;34m=\u001b[0m \u001b[0mlist\u001b[0m\u001b[0;34m(\u001b[0m\u001b[0mvmin\u001b[0m\u001b[0;34m)\u001b[0m\u001b[0;34m\u001b[0m\u001b[0;34m\u001b[0m\u001b[0m\n\u001b[1;32m    252\u001b[0m         \u001b[0;31m# Find default in options\u001b[0m\u001b[0;34m\u001b[0m\u001b[0;34m\u001b[0m\u001b[0;34m\u001b[0m\u001b[0m\n",
      "\u001b[0;31mNotImplementedError\u001b[0m: range_slider does not support a list of values"
     ]
    }
   ],
   "source": [
    "@interact\n",
    "def illustration( f = input_box(default = x^2-1, label=\"$f=$\"), \n",
    "               ab = range_slider([-10..10], default = (-2,2), label = \"$(a,b)=$\"),\n",
    "               typ = selector([\"Cauchy 1\", \"Cauchy 2\", \"Hong\", \"local-max\", \"Laguerre-Samuelson\"]) ) :\n",
    "    from sage.rings.polynomial.polynomial_element import is_Polynomial\n",
    "    if not is_Polynomial(f) :\n",
    "        pretty_print(html( \"Argument $f$ musi być wielomianem!\" ))\n",
    "        return\n",
    "    if typ == \"Laguerre-Samuelson\" :\n",
    "        M1, M2 = Laguerre_Samuelson(f)\n",
    "    else :\n",
    "        switch = { \"Cauchy 1\" : Cauchy_1(f), \"Cauchy 2\" : Cauchy_2(f), \"Hong\" : Hong(f), \"local-max\" : local_max(f) }\n",
    "        M2 = switch.get(typ)\n",
    "        M1 = -M2\n",
    "    show(\"Interval = \" + latex((M1, M2)) + \"\\\\approx\" + latex(( round(M1,2), round(M2,2) )))\n",
    "    show(f.plot(ab[0], ab[1]))"
   ]
  },
  {
   "cell_type": "code",
   "execution_count": 43,
   "metadata": {},
   "outputs": [
    {
     "data": {
      "text/plain": []
     },
     "execution_count": 43,
     "metadata": {},
     "output_type": "execute_result"
    }
   ],
   "source": []
  }
 ],
 "metadata": {
  "kernelspec": {
   "display_name": "SageMath 9.2",
   "language": "sage",
   "name": "sagemath"
  },
  "language": "python",
  "language_info": {
   "codemirror_mode": {
    "name": "ipython",
    "version": 3
   },
   "file_extension": ".py",
   "mimetype": "text/x-python",
   "name": "python",
   "nbconvert_exporter": "python",
   "pygments_lexer": "ipython3",
   "version": "3.7.7"
  }
 },
 "nbformat": 4,
 "nbformat_minor": 4
}
